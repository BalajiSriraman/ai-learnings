{
 "cells": [
  {
   "cell_type": "code",
   "execution_count": 1,
   "metadata": {},
   "outputs": [
    {
     "name": "stdout",
     "output_type": "stream",
     "text": [
      "Requirement already satisfied: transformers in /Users/balaji/.pyenv/versions/3.10.16/lib/python3.10/site-packages (4.50.3)\n",
      "Requirement already satisfied: datasets in /Users/balaji/.pyenv/versions/3.10.16/lib/python3.10/site-packages (3.5.0)\n",
      "Requirement already satisfied: huggingface_hub in /Users/balaji/.pyenv/versions/3.10.16/lib/python3.10/site-packages (0.29.3)\n",
      "Requirement already satisfied: ipywidgets in /Users/balaji/.pyenv/versions/3.10.16/lib/python3.10/site-packages (8.1.5)\n",
      "Requirement already satisfied: tf-keras in /Users/balaji/.pyenv/versions/3.10.16/lib/python3.10/site-packages (2.19.0)\n",
      "Requirement already satisfied: tqdm>=4.27 in /Users/balaji/.pyenv/versions/3.10.16/lib/python3.10/site-packages (from transformers) (4.67.1)\n",
      "Requirement already satisfied: requests in /Users/balaji/.pyenv/versions/3.10.16/lib/python3.10/site-packages (from transformers) (2.32.3)\n",
      "Requirement already satisfied: pyyaml>=5.1 in /Users/balaji/.pyenv/versions/3.10.16/lib/python3.10/site-packages (from transformers) (6.0.2)\n",
      "Requirement already satisfied: numpy>=1.17 in /Users/balaji/.pyenv/versions/3.10.16/lib/python3.10/site-packages (from transformers) (1.26.4)\n",
      "Requirement already satisfied: tokenizers<0.22,>=0.21 in /Users/balaji/.pyenv/versions/3.10.16/lib/python3.10/site-packages (from transformers) (0.21.1)\n",
      "Requirement already satisfied: packaging>=20.0 in /Users/balaji/.pyenv/versions/3.10.16/lib/python3.10/site-packages (from transformers) (24.2)\n",
      "Requirement already satisfied: safetensors>=0.4.3 in /Users/balaji/.pyenv/versions/3.10.16/lib/python3.10/site-packages (from transformers) (0.5.3)\n",
      "Requirement already satisfied: regex!=2019.12.17 in /Users/balaji/.pyenv/versions/3.10.16/lib/python3.10/site-packages (from transformers) (2024.11.6)\n",
      "Requirement already satisfied: filelock in /Users/balaji/.pyenv/versions/3.10.16/lib/python3.10/site-packages (from transformers) (3.18.0)\n",
      "Requirement already satisfied: xxhash in /Users/balaji/.pyenv/versions/3.10.16/lib/python3.10/site-packages (from datasets) (3.5.0)\n",
      "Requirement already satisfied: dill<0.3.9,>=0.3.0 in /Users/balaji/.pyenv/versions/3.10.16/lib/python3.10/site-packages (from datasets) (0.3.8)\n",
      "Requirement already satisfied: multiprocess<0.70.17 in /Users/balaji/.pyenv/versions/3.10.16/lib/python3.10/site-packages (from datasets) (0.70.16)\n",
      "Requirement already satisfied: pyarrow>=15.0.0 in /Users/balaji/.pyenv/versions/3.10.16/lib/python3.10/site-packages (from datasets) (19.0.1)\n",
      "Requirement already satisfied: aiohttp in /Users/balaji/.pyenv/versions/3.10.16/lib/python3.10/site-packages (from datasets) (3.11.14)\n",
      "Requirement already satisfied: fsspec[http]<=2024.12.0,>=2023.1.0 in /Users/balaji/.pyenv/versions/3.10.16/lib/python3.10/site-packages (from datasets) (2024.12.0)\n",
      "Requirement already satisfied: pandas in /Users/balaji/.pyenv/versions/3.10.16/lib/python3.10/site-packages (from datasets) (2.2.3)\n",
      "Requirement already satisfied: typing-extensions>=3.7.4.3 in /Users/balaji/.pyenv/versions/3.10.16/lib/python3.10/site-packages (from huggingface_hub) (4.12.2)\n",
      "Requirement already satisfied: traitlets>=4.3.1 in /Users/balaji/.pyenv/versions/3.10.16/lib/python3.10/site-packages (from ipywidgets) (5.14.3)\n",
      "Requirement already satisfied: ipython>=6.1.0 in /Users/balaji/.pyenv/versions/3.10.16/lib/python3.10/site-packages (from ipywidgets) (8.34.0)\n",
      "Requirement already satisfied: jupyterlab-widgets~=3.0.12 in /Users/balaji/.pyenv/versions/3.10.16/lib/python3.10/site-packages (from ipywidgets) (3.0.13)\n",
      "Requirement already satisfied: comm>=0.1.3 in /Users/balaji/.pyenv/versions/3.10.16/lib/python3.10/site-packages (from ipywidgets) (0.2.2)\n",
      "Requirement already satisfied: widgetsnbextension~=4.0.12 in /Users/balaji/.pyenv/versions/3.10.16/lib/python3.10/site-packages (from ipywidgets) (4.0.13)\n",
      "Requirement already satisfied: tensorflow<2.20,>=2.19 in /Users/balaji/.pyenv/versions/3.10.16/lib/python3.10/site-packages (from tf-keras) (2.19.0)\n",
      "Requirement already satisfied: attrs>=17.3.0 in /Users/balaji/.pyenv/versions/3.10.16/lib/python3.10/site-packages (from aiohttp->datasets) (25.3.0)\n",
      "Requirement already satisfied: aiosignal>=1.1.2 in /Users/balaji/.pyenv/versions/3.10.16/lib/python3.10/site-packages (from aiohttp->datasets) (1.3.2)\n",
      "Requirement already satisfied: aiohappyeyeballs>=2.3.0 in /Users/balaji/.pyenv/versions/3.10.16/lib/python3.10/site-packages (from aiohttp->datasets) (2.6.1)\n",
      "Requirement already satisfied: frozenlist>=1.1.1 in /Users/balaji/.pyenv/versions/3.10.16/lib/python3.10/site-packages (from aiohttp->datasets) (1.5.0)\n",
      "Requirement already satisfied: multidict<7.0,>=4.5 in /Users/balaji/.pyenv/versions/3.10.16/lib/python3.10/site-packages (from aiohttp->datasets) (6.2.0)\n",
      "Requirement already satisfied: async-timeout<6.0,>=4.0 in /Users/balaji/.pyenv/versions/3.10.16/lib/python3.10/site-packages (from aiohttp->datasets) (5.0.1)\n",
      "Requirement already satisfied: propcache>=0.2.0 in /Users/balaji/.pyenv/versions/3.10.16/lib/python3.10/site-packages (from aiohttp->datasets) (0.3.1)\n",
      "Requirement already satisfied: yarl<2.0,>=1.17.0 in /Users/balaji/.pyenv/versions/3.10.16/lib/python3.10/site-packages (from aiohttp->datasets) (1.18.3)\n",
      "Requirement already satisfied: prompt_toolkit<3.1.0,>=3.0.41 in /Users/balaji/.pyenv/versions/3.10.16/lib/python3.10/site-packages (from ipython>=6.1.0->ipywidgets) (3.0.50)\n",
      "Requirement already satisfied: matplotlib-inline in /Users/balaji/.pyenv/versions/3.10.16/lib/python3.10/site-packages (from ipython>=6.1.0->ipywidgets) (0.1.7)\n",
      "Requirement already satisfied: pexpect>4.3 in /Users/balaji/.pyenv/versions/3.10.16/lib/python3.10/site-packages (from ipython>=6.1.0->ipywidgets) (4.9.0)\n",
      "Requirement already satisfied: exceptiongroup in /Users/balaji/.pyenv/versions/3.10.16/lib/python3.10/site-packages (from ipython>=6.1.0->ipywidgets) (1.2.2)\n",
      "Requirement already satisfied: jedi>=0.16 in /Users/balaji/.pyenv/versions/3.10.16/lib/python3.10/site-packages (from ipython>=6.1.0->ipywidgets) (0.19.2)\n",
      "Requirement already satisfied: decorator in /Users/balaji/.pyenv/versions/3.10.16/lib/python3.10/site-packages (from ipython>=6.1.0->ipywidgets) (5.2.1)\n",
      "Requirement already satisfied: pygments>=2.4.0 in /Users/balaji/.pyenv/versions/3.10.16/lib/python3.10/site-packages (from ipython>=6.1.0->ipywidgets) (2.19.1)\n",
      "Requirement already satisfied: stack_data in /Users/balaji/.pyenv/versions/3.10.16/lib/python3.10/site-packages (from ipython>=6.1.0->ipywidgets) (0.6.3)\n",
      "Requirement already satisfied: charset-normalizer<4,>=2 in /Users/balaji/.pyenv/versions/3.10.16/lib/python3.10/site-packages (from requests->transformers) (3.4.1)\n",
      "Requirement already satisfied: certifi>=2017.4.17 in /Users/balaji/.pyenv/versions/3.10.16/lib/python3.10/site-packages (from requests->transformers) (2025.1.31)\n",
      "Requirement already satisfied: idna<4,>=2.5 in /Users/balaji/.pyenv/versions/3.10.16/lib/python3.10/site-packages (from requests->transformers) (3.10)\n",
      "Requirement already satisfied: urllib3<3,>=1.21.1 in /Users/balaji/.pyenv/versions/3.10.16/lib/python3.10/site-packages (from requests->transformers) (2.3.0)\n",
      "Requirement already satisfied: gast!=0.5.0,!=0.5.1,!=0.5.2,>=0.2.1 in /Users/balaji/.pyenv/versions/3.10.16/lib/python3.10/site-packages (from tensorflow<2.20,>=2.19->tf-keras) (0.6.0)\n",
      "Requirement already satisfied: ml-dtypes<1.0.0,>=0.5.1 in /Users/balaji/.pyenv/versions/3.10.16/lib/python3.10/site-packages (from tensorflow<2.20,>=2.19->tf-keras) (0.5.1)\n",
      "Requirement already satisfied: grpcio<2.0,>=1.24.3 in /Users/balaji/.pyenv/versions/3.10.16/lib/python3.10/site-packages (from tensorflow<2.20,>=2.19->tf-keras) (1.71.0)\n",
      "Requirement already satisfied: flatbuffers>=24.3.25 in /Users/balaji/.pyenv/versions/3.10.16/lib/python3.10/site-packages (from tensorflow<2.20,>=2.19->tf-keras) (25.2.10)\n",
      "Requirement already satisfied: tensorflow-io-gcs-filesystem>=0.23.1 in /Users/balaji/.pyenv/versions/3.10.16/lib/python3.10/site-packages (from tensorflow<2.20,>=2.19->tf-keras) (0.37.1)\n",
      "Requirement already satisfied: wrapt>=1.11.0 in /Users/balaji/.pyenv/versions/3.10.16/lib/python3.10/site-packages (from tensorflow<2.20,>=2.19->tf-keras) (1.17.2)\n",
      "Requirement already satisfied: termcolor>=1.1.0 in /Users/balaji/.pyenv/versions/3.10.16/lib/python3.10/site-packages (from tensorflow<2.20,>=2.19->tf-keras) (2.5.0)\n",
      "Requirement already satisfied: absl-py>=1.0.0 in /Users/balaji/.pyenv/versions/3.10.16/lib/python3.10/site-packages (from tensorflow<2.20,>=2.19->tf-keras) (2.2.0)\n",
      "Requirement already satisfied: h5py>=3.11.0 in /Users/balaji/.pyenv/versions/3.10.16/lib/python3.10/site-packages (from tensorflow<2.20,>=2.19->tf-keras) (3.13.0)\n",
      "Requirement already satisfied: tensorboard~=2.19.0 in /Users/balaji/.pyenv/versions/3.10.16/lib/python3.10/site-packages (from tensorflow<2.20,>=2.19->tf-keras) (2.19.0)\n",
      "Requirement already satisfied: protobuf!=4.21.0,!=4.21.1,!=4.21.2,!=4.21.3,!=4.21.4,!=4.21.5,<6.0.0dev,>=3.20.3 in /Users/balaji/.pyenv/versions/3.10.16/lib/python3.10/site-packages (from tensorflow<2.20,>=2.19->tf-keras) (4.25.6)\n",
      "Requirement already satisfied: google-pasta>=0.1.1 in /Users/balaji/.pyenv/versions/3.10.16/lib/python3.10/site-packages (from tensorflow<2.20,>=2.19->tf-keras) (0.2.0)\n",
      "Requirement already satisfied: six>=1.12.0 in /Users/balaji/.pyenv/versions/3.10.16/lib/python3.10/site-packages (from tensorflow<2.20,>=2.19->tf-keras) (1.17.0)\n",
      "Requirement already satisfied: opt-einsum>=2.3.2 in /Users/balaji/.pyenv/versions/3.10.16/lib/python3.10/site-packages (from tensorflow<2.20,>=2.19->tf-keras) (3.4.0)\n",
      "Requirement already satisfied: astunparse>=1.6.0 in /Users/balaji/.pyenv/versions/3.10.16/lib/python3.10/site-packages (from tensorflow<2.20,>=2.19->tf-keras) (1.6.3)\n",
      "Requirement already satisfied: libclang>=13.0.0 in /Users/balaji/.pyenv/versions/3.10.16/lib/python3.10/site-packages (from tensorflow<2.20,>=2.19->tf-keras) (18.1.1)\n",
      "Requirement already satisfied: keras>=3.5.0 in /Users/balaji/.pyenv/versions/3.10.16/lib/python3.10/site-packages (from tensorflow<2.20,>=2.19->tf-keras) (3.9.0)\n",
      "Requirement already satisfied: setuptools in /Users/balaji/.pyenv/versions/3.10.16/lib/python3.10/site-packages (from tensorflow<2.20,>=2.19->tf-keras) (65.5.0)\n",
      "Requirement already satisfied: tzdata>=2022.7 in /Users/balaji/.pyenv/versions/3.10.16/lib/python3.10/site-packages (from pandas->datasets) (2025.1)\n",
      "Requirement already satisfied: pytz>=2020.1 in /Users/balaji/.pyenv/versions/3.10.16/lib/python3.10/site-packages (from pandas->datasets) (2025.1)\n",
      "Requirement already satisfied: python-dateutil>=2.8.2 in /Users/balaji/.pyenv/versions/3.10.16/lib/python3.10/site-packages (from pandas->datasets) (2.9.0.post0)\n",
      "Requirement already satisfied: wheel<1.0,>=0.23.0 in /Users/balaji/.pyenv/versions/3.10.16/lib/python3.10/site-packages (from astunparse>=1.6.0->tensorflow<2.20,>=2.19->tf-keras) (0.45.1)\n",
      "Requirement already satisfied: parso<0.9.0,>=0.8.4 in /Users/balaji/.pyenv/versions/3.10.16/lib/python3.10/site-packages (from jedi>=0.16->ipython>=6.1.0->ipywidgets) (0.8.4)\n",
      "Requirement already satisfied: rich in /Users/balaji/.pyenv/versions/3.10.16/lib/python3.10/site-packages (from keras>=3.5.0->tensorflow<2.20,>=2.19->tf-keras) (13.9.4)\n",
      "Requirement already satisfied: namex in /Users/balaji/.pyenv/versions/3.10.16/lib/python3.10/site-packages (from keras>=3.5.0->tensorflow<2.20,>=2.19->tf-keras) (0.0.8)\n",
      "Requirement already satisfied: optree in /Users/balaji/.pyenv/versions/3.10.16/lib/python3.10/site-packages (from keras>=3.5.0->tensorflow<2.20,>=2.19->tf-keras) (0.14.1)\n",
      "Requirement already satisfied: ptyprocess>=0.5 in /Users/balaji/.pyenv/versions/3.10.16/lib/python3.10/site-packages (from pexpect>4.3->ipython>=6.1.0->ipywidgets) (0.7.0)\n",
      "Requirement already satisfied: wcwidth in /Users/balaji/.pyenv/versions/3.10.16/lib/python3.10/site-packages (from prompt_toolkit<3.1.0,>=3.0.41->ipython>=6.1.0->ipywidgets) (0.2.13)\n",
      "Requirement already satisfied: markdown>=2.6.8 in /Users/balaji/.pyenv/versions/3.10.16/lib/python3.10/site-packages (from tensorboard~=2.19.0->tensorflow<2.20,>=2.19->tf-keras) (3.7)\n",
      "Requirement already satisfied: werkzeug>=1.0.1 in /Users/balaji/.pyenv/versions/3.10.16/lib/python3.10/site-packages (from tensorboard~=2.19.0->tensorflow<2.20,>=2.19->tf-keras) (3.1.3)\n",
      "Requirement already satisfied: tensorboard-data-server<0.8.0,>=0.7.0 in /Users/balaji/.pyenv/versions/3.10.16/lib/python3.10/site-packages (from tensorboard~=2.19.0->tensorflow<2.20,>=2.19->tf-keras) (0.7.2)\n",
      "Requirement already satisfied: pure-eval in /Users/balaji/.pyenv/versions/3.10.16/lib/python3.10/site-packages (from stack_data->ipython>=6.1.0->ipywidgets) (0.2.3)\n",
      "Requirement already satisfied: executing>=1.2.0 in /Users/balaji/.pyenv/versions/3.10.16/lib/python3.10/site-packages (from stack_data->ipython>=6.1.0->ipywidgets) (2.2.0)\n",
      "Requirement already satisfied: asttokens>=2.1.0 in /Users/balaji/.pyenv/versions/3.10.16/lib/python3.10/site-packages (from stack_data->ipython>=6.1.0->ipywidgets) (3.0.0)\n",
      "Requirement already satisfied: MarkupSafe>=2.1.1 in /Users/balaji/.pyenv/versions/3.10.16/lib/python3.10/site-packages (from werkzeug>=1.0.1->tensorboard~=2.19.0->tensorflow<2.20,>=2.19->tf-keras) (3.0.2)\n",
      "Requirement already satisfied: markdown-it-py>=2.2.0 in /Users/balaji/.pyenv/versions/3.10.16/lib/python3.10/site-packages (from rich->keras>=3.5.0->tensorflow<2.20,>=2.19->tf-keras) (3.0.0)\n",
      "Requirement already satisfied: mdurl~=0.1 in /Users/balaji/.pyenv/versions/3.10.16/lib/python3.10/site-packages (from markdown-it-py>=2.2.0->rich->keras>=3.5.0->tensorflow<2.20,>=2.19->tf-keras) (0.1.2)\n",
      "\n",
      "\u001b[1m[\u001b[0m\u001b[34;49mnotice\u001b[0m\u001b[1;39;49m]\u001b[0m\u001b[39;49m A new release of pip is available: \u001b[0m\u001b[31;49m23.0.1\u001b[0m\u001b[39;49m -> \u001b[0m\u001b[32;49m25.0.1\u001b[0m\n",
      "\u001b[1m[\u001b[0m\u001b[34;49mnotice\u001b[0m\u001b[1;39;49m]\u001b[0m\u001b[39;49m To update, run: \u001b[0m\u001b[32;49mpip install --upgrade pip\u001b[0m\n",
      "Note: you may need to restart the kernel to use updated packages.\n"
     ]
    }
   ],
   "source": [
    "%pip install transformers datasets huggingface_hub ipywidgets tf-keras"
   ]
  },
  {
   "cell_type": "code",
   "execution_count": 2,
   "metadata": {},
   "outputs": [
    {
     "name": "stdout",
     "output_type": "stream",
     "text": [
      "\n",
      "    _|    _|  _|    _|    _|_|_|    _|_|_|  _|_|_|  _|      _|    _|_|_|      _|_|_|_|    _|_|      _|_|_|  _|_|_|_|\n",
      "    _|    _|  _|    _|  _|        _|          _|    _|_|    _|  _|            _|        _|    _|  _|        _|\n",
      "    _|_|_|_|  _|    _|  _|  _|_|  _|  _|_|    _|    _|  _|  _|  _|  _|_|      _|_|_|    _|_|_|_|  _|        _|_|_|\n",
      "    _|    _|  _|    _|  _|    _|  _|    _|    _|    _|    _|_|  _|    _|      _|        _|    _|  _|        _|\n",
      "    _|    _|    _|_|      _|_|_|    _|_|_|  _|_|_|  _|      _|    _|_|_|      _|        _|    _|    _|_|_|  _|_|_|_|\n",
      "\n"
     ]
    }
   ],
   "source": [
    "from huggingface_hub import interpreter_login\n",
    "\n",
    "interpreter_login()"
   ]
  },
  {
   "cell_type": "code",
   "execution_count": 4,
   "metadata": {},
   "outputs": [
    {
     "name": "stderr",
     "output_type": "stream",
     "text": [
      "All PyTorch model weights were used when initializing TFGPT2LMHeadModel.\n",
      "\n",
      "All the weights of TFGPT2LMHeadModel were initialized from the PyTorch model.\n",
      "If your task is similar to the task the model of the checkpoint was trained on, you can already use TFGPT2LMHeadModel for predictions without further training.\n",
      "Device set to use 0\n"
     ]
    },
    {
     "name": "stdout",
     "output_type": "stream",
     "text": [
      "[{'generated_text': \"Once upon a time, humanity had found a more accurate way to destroy the human race than an interstellar war. The technology was being created to support this eventuality. This resulted in a single human man: the UNSC's first Ambassador [11]\"}]\n"
     ]
    }
   ],
   "source": [
    "from transformers import pipeline\n",
    "\n",
    "generator = pipeline('text-generation', model='gpt2')\n",
    "\n",
    "\n",
    "result = generator(\n",
    "    \"Once upon a time\",\n",
    "    max_length=50,\n",
    "    num_return_sequences=1,\n",
    "    pad_token_id=50256,  # Explicitly set pad_token_id to eos_token_id\n",
    "    truncation=True      # Explicitly enable truncation\n",
    ")\n",
    "\n",
    "print(result)"
   ]
  }
 ],
 "metadata": {
  "kernelspec": {
   "display_name": "Python 3",
   "language": "python",
   "name": "python3"
  },
  "language_info": {
   "codemirror_mode": {
    "name": "ipython",
    "version": 3
   },
   "file_extension": ".py",
   "mimetype": "text/x-python",
   "name": "python",
   "nbconvert_exporter": "python",
   "pygments_lexer": "ipython3",
   "version": "3.10.16"
  }
 },
 "nbformat": 4,
 "nbformat_minor": 2
}
